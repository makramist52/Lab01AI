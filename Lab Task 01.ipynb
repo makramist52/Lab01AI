{
 "cells": [
  {
   "cell_type": "code",
   "execution_count": 1,
   "metadata": {},
   "outputs": [],
   "source": [
    "#Lab  1\n",
    "#Task 2\n"
   ]
  },
  {
   "cell_type": "markdown",
   "metadata": {},
   "source": [
    "#Create three variables representing your name, age, and favorite color. Print a message using these\n",
    "variables."
   ]
  },
  {
   "cell_type": "code",
   "execution_count": 2,
   "metadata": {},
   "outputs": [
    {
     "name": "stdout",
     "output_type": "stream",
     "text": [
      "Hello, my name is Muhammad Akram. I am 22 years old, and my favorite color is Black.\n"
     ]
    }
   ],
   "source": [
    "\n",
    "name = \"Muhammad Akram\"\n",
    "age = 22   \n",
    "favorite_color = \"Black\"\n",
    "\n",
    "# Print a message using the variables\n",
    "print(f\"Hello, my name is {name}. I am {age} years old, and my favorite color is {favorite_color}.\")\n"
   ]
  },
  {
   "cell_type": "markdown",
   "metadata": {},
   "source": [
    "#Ask the user for their name and then print a personalized greeting"
   ]
  },
  {
   "cell_type": "code",
   "execution_count": 3,
   "metadata": {},
   "outputs": [
    {
     "name": "stdout",
     "output_type": "stream",
     "text": [
      "Hello, Muhammad Akram! Welcome.\n"
     ]
    }
   ],
   "source": [
    "# Ask the user for their name\n",
    "user_name = input(\"What is your name? \")\n",
    "\n",
    "# Print a personalized greeting\n",
    "print(f\"Hello, {user_name}! Welcome.\")\n"
   ]
  },
  {
   "cell_type": "markdown",
   "metadata": {},
   "source": [
    "#Create a string containing your favorite quote. Print the quote and its length"
   ]
  },
  {
   "cell_type": "code",
   "execution_count": 4,
   "metadata": {},
   "outputs": [
    {
     "name": "stdout",
     "output_type": "stream",
     "text": [
      "Favorite Quote:\n",
      " See the bad inside yourself, and see the good inside others\n",
      "\n",
      "Length of the Quote: 60 characters\n"
     ]
    }
   ],
   "source": [
    "# Define the favorite quote\n",
    "favorite_quote = \" See the bad inside yourself, and see the good inside others\"\n",
    "\n",
    "# Print the quote\n",
    "print(\"Favorite Quote:\")\n",
    "print(favorite_quote)\n",
    "\n",
    "# Print the length of the quote\n",
    "quote_length = len(favorite_quote)\n",
    "print(f\"\\nLength of the Quote: {quote_length} characters\")\n"
   ]
  },
  {
   "cell_type": "markdown",
   "metadata": {},
   "source": [
    "#Create a list of your favorite fruits. Print the list and the total number of fruits"
   ]
  },
  {
   "cell_type": "code",
   "execution_count": 5,
   "metadata": {},
   "outputs": [
    {
     "name": "stdout",
     "output_type": "stream",
     "text": [
      "Favorite Fruits:\n",
      "- Apple\n",
      "- Banana\n",
      "- Orange\n",
      "- Strawberry\n",
      "- Grapes\n",
      "\n",
      "Total Number of Fruits: 5\n"
     ]
    }
   ],
   "source": [
    "# Define a list of favorite fruits\n",
    "favorite_fruits = [\"Apple\", \"Banana\", \"Orange\", \"Strawberry\", \"Grapes\"]\n",
    "\n",
    "# Print the list of favorite fruits\n",
    "print(\"Favorite Fruits:\")\n",
    "for fruit in favorite_fruits:\n",
    "    print(f\"- {fruit}\")\n",
    "\n",
    "# Print the total number of fruits\n",
    "total_fruits = len(favorite_fruits)\n",
    "print(f\"\\nTotal Number of Fruits: {total_fruits}\")\n"
   ]
  },
  {
   "cell_type": "markdown",
   "metadata": {},
   "source": [
    "#Create a dictionary representing a person's information (name, age, and city). Print the dictionary"
   ]
  },
  {
   "cell_type": "code",
   "execution_count": 6,
   "metadata": {},
   "outputs": [
    {
     "name": "stdout",
     "output_type": "stream",
     "text": [
      "Person's Information:\n",
      "{'name': 'Muhammad Akram', 'age': 22, 'city': 'Islamabad'}\n"
     ]
    }
   ],
   "source": [
    "# Create a dictionary representing a person's information\n",
    "person_info = {\n",
    "    \"name\": \"Muhammad Akram\",\n",
    "    \"age\": 22,\n",
    "    \"city\": \"Islamabad\"\n",
    "}\n",
    "\n",
    "# Print the dictionary\n",
    "print(\"Person's Information:\")\n",
    "print(person_info)\n"
   ]
  },
  {
   "cell_type": "markdown",
   "metadata": {},
   "source": [
    "#Ask the user for their age and check if they are eligible to vote (age 18 or older). Print the eligibility\n",
    "status."
   ]
  },
  {
   "cell_type": "code",
   "execution_count": 7,
   "metadata": {},
   "outputs": [
    {
     "name": "stdout",
     "output_type": "stream",
     "text": [
      "You are eligible to vote!\n"
     ]
    }
   ],
   "source": [
    "# Ask the user for their age\n",
    "user_age = input(\"Please enter your age: \")\n",
    "\n",
    "# Convert the input to an integer\n",
    "user_age = int(user_age)\n",
    "\n",
    "# Check eligibility to vote\n",
    "if user_age >= 18:\n",
    "    print(\"You are eligible to vote!\")\n",
    "else:\n",
    "    print(\"Sorry, you are not eligible to vote yet.\")\n"
   ]
  },
  {
   "cell_type": "markdown",
   "metadata": {},
   "source": [
    "#Ask the user to guess a number between 1 and 10. Keep prompting them until they guess correctly."
   ]
  },
  {
   "cell_type": "code",
   "execution_count": 8,
   "metadata": {},
   "outputs": [
    {
     "name": "stdout",
     "output_type": "stream",
     "text": [
      "Incorrect. Try again!\n",
      "Incorrect. Try again!\n",
      "Congratulations! You guessed the correct number.\n"
     ]
    }
   ],
   "source": [
    "# Generate a random number between 1 and 10 for the user to guess\n",
    "import random\n",
    "correct_number = random.randint(1, 10)\n",
    "\n",
    "# Initialize a variable to store the user's guess\n",
    "user_guess = 0\n",
    "\n",
    "# Keep prompting the user until they guess correctly\n",
    "while user_guess != correct_number:\n",
    "    # Ask the user to guess a number\n",
    "    user_guess = int(input(\"Guess a number between 1 and 10: \"))\n",
    "\n",
    "    # Check if the guess is correct\n",
    "    if user_guess == correct_number:\n",
    "        print(\"Congratulations! You guessed the correct number.\")\n",
    "    else:\n",
    "        print(\"Incorrect. Try again!\")\n",
    "\n",
    "# End of the loop\n"
   ]
  },
  {
   "cell_type": "markdown",
   "metadata": {},
   "source": [
    "#. Create a function that calculates the area of a rectangle given its length and width. Ask the user\n",
    "for the values and print the area"
   ]
  },
  {
   "cell_type": "code",
   "execution_count": 9,
   "metadata": {},
   "outputs": [
    {
     "name": "stdout",
     "output_type": "stream",
     "text": [
      "The area of the rectangle is: 30.0\n"
     ]
    }
   ],
   "source": [
    "# Define the function to calculate the area of a rectangle\n",
    "def calculate_rectangle_area(length, width):\n",
    "    return length * width\n",
    "\n",
    "# Ask the user for the length and width\n",
    "length = float(input(\"Enter the length of the rectangle: \"))\n",
    "width = float(input(\"Enter the width of the rectangle: \"))\n",
    "\n",
    "# Calculate the area using the function\n",
    "area = calculate_rectangle_area(length, width)\n",
    "\n",
    "# Print the area\n",
    "print(f\"The area of the rectangle is: {area}\")\n"
   ]
  },
  {
   "cell_type": "markdown",
   "metadata": {},
   "source": [
    "#Create a command-line To-Do List application that allows users to add tasks, view tasks, mark\n",
    "tasks as completed, and delete tasks.\n",
    "\n",
    "a. Requirements:\n",
    "\n",
    "i. Allow users to add tasks with descriptions.\n",
    "\n",
    "ii. Display a list of tasks with their statuses (completed or not completed).\n",
    "\n",
    "iii. Allow users to mark tasks as completed.\n",
    "\n",
    "iv. Allow users to delete tasks.\n",
    "\n",
    "v. Provide a menu for users to choose actions (add, view, mark, delete, exit).\n",
    "\n"
   ]
  },
  {
   "cell_type": "code",
   "execution_count": 10,
   "metadata": {},
   "outputs": [
    {
     "name": "stdout",
     "output_type": "stream",
     "text": [
      "\n",
      "--- Menu ---\n",
      "1. Add Task\n",
      "2. View Tasks\n",
      "3. Mark Task as Completed\n",
      "4. Delete Task\n",
      "5. Exit\n"
     ]
    },
    {
     "ename": "ValueError",
     "evalue": "invalid literal for int() with base 10: 'enter'",
     "output_type": "error",
     "traceback": [
      "\u001b[1;31m---------------------------------------------------------------------------\u001b[0m",
      "\u001b[1;31mValueError\u001b[0m                                Traceback (most recent call last)",
      "\u001b[1;32mc:\\Users\\Muhammad Akram\\Desktop\\Lab Task 01.ipynb Cell 19\u001b[0m line \u001b[0;36m6\n\u001b[0;32m     <a href='vscode-notebook-cell:/c%3A/Users/Muhammad%20Akram/Desktop/Lab%20Task%2001.ipynb#X24sZmlsZQ%3D%3D?line=57'>58</a>\u001b[0m             \u001b[39mprint\u001b[39m(\u001b[39m\"\u001b[39m\u001b[39mInvalid choice. Please enter a number between 1 and 5.\u001b[39m\u001b[39m\"\u001b[39m)\n\u001b[0;32m     <a href='vscode-notebook-cell:/c%3A/Users/Muhammad%20Akram/Desktop/Lab%20Task%2001.ipynb#X24sZmlsZQ%3D%3D?line=59'>60</a>\u001b[0m \u001b[39mif\u001b[39;00m \u001b[39m__name__\u001b[39m \u001b[39m==\u001b[39m \u001b[39m\"\u001b[39m\u001b[39m__main__\u001b[39m\u001b[39m\"\u001b[39m:\n\u001b[1;32m---> <a href='vscode-notebook-cell:/c%3A/Users/Muhammad%20Akram/Desktop/Lab%20Task%2001.ipynb#X24sZmlsZQ%3D%3D?line=60'>61</a>\u001b[0m     main()\n",
      "\u001b[1;32mc:\\Users\\Muhammad Akram\\Desktop\\Lab Task 01.ipynb Cell 19\u001b[0m line \u001b[0;36m5\n\u001b[0;32m     <a href='vscode-notebook-cell:/c%3A/Users/Muhammad%20Akram/Desktop/Lab%20Task%2001.ipynb#X24sZmlsZQ%3D%3D?line=49'>50</a>\u001b[0m     to_do_list\u001b[39m.\u001b[39mmark_task_completed(task_index)\n\u001b[0;32m     <a href='vscode-notebook-cell:/c%3A/Users/Muhammad%20Akram/Desktop/Lab%20Task%2001.ipynb#X24sZmlsZQ%3D%3D?line=50'>51</a>\u001b[0m \u001b[39melif\u001b[39;00m choice \u001b[39m==\u001b[39m \u001b[39m\"\u001b[39m\u001b[39m4\u001b[39m\u001b[39m\"\u001b[39m:\n\u001b[1;32m---> <a href='vscode-notebook-cell:/c%3A/Users/Muhammad%20Akram/Desktop/Lab%20Task%2001.ipynb#X24sZmlsZQ%3D%3D?line=51'>52</a>\u001b[0m     task_index \u001b[39m=\u001b[39m \u001b[39mint\u001b[39;49m(\u001b[39minput\u001b[39;49m(\u001b[39m\"\u001b[39;49m\u001b[39mEnter the index of the task to delete: \u001b[39;49m\u001b[39m\"\u001b[39;49m))\n\u001b[0;32m     <a href='vscode-notebook-cell:/c%3A/Users/Muhammad%20Akram/Desktop/Lab%20Task%2001.ipynb#X24sZmlsZQ%3D%3D?line=52'>53</a>\u001b[0m     to_do_list\u001b[39m.\u001b[39mdelete_task(task_index)\n\u001b[0;32m     <a href='vscode-notebook-cell:/c%3A/Users/Muhammad%20Akram/Desktop/Lab%20Task%2001.ipynb#X24sZmlsZQ%3D%3D?line=53'>54</a>\u001b[0m \u001b[39melif\u001b[39;00m choice \u001b[39m==\u001b[39m \u001b[39m\"\u001b[39m\u001b[39m5\u001b[39m\u001b[39m\"\u001b[39m:\n",
      "\u001b[1;31mValueError\u001b[0m: invalid literal for int() with base 10: 'enter'"
     ]
    }
   ],
   "source": [
    "class ToDoList:\n",
    "    def __init__(self):\n",
    "        self.tasks = []\n",
    "\n",
    "    def add_task(self, description):\n",
    "        self.tasks.append({\"description\": description, \"completed\": False})\n",
    "        print(f'Task \"{description}\" added successfully.')\n",
    "\n",
    "    def view_tasks(self):\n",
    "        print(\"\\n--- To-Do List ---\")\n",
    "        for index, task in enumerate(self.tasks, start=1):\n",
    "            status = \"Completed\" if task[\"completed\"] else \"Not Completed\"\n",
    "            print(f\"{index}. {task['description']} - {status}\")\n",
    "        print(\"------------------\")\n",
    "\n",
    "    def mark_task_completed(self, task_index):\n",
    "        if 1 <= task_index <= len(self.tasks):\n",
    "            self.tasks[task_index - 1][\"completed\"] = True\n",
    "            print(f'Task \"{self.tasks[task_index - 1][\"description\"]}\" marked as completed.')\n",
    "        else:\n",
    "            print(\"Invalid task index.\")\n",
    "\n",
    "    def delete_task(self, task_index):\n",
    "        if 1 <= task_index <= len(self.tasks):\n",
    "            deleted_task = self.tasks.pop(task_index - 1)\n",
    "            print(f'Task \"{deleted_task[\"description\"]}\" deleted.')\n",
    "        else:\n",
    "            print(\"Invalid task index.\")\n",
    "\n",
    "def main():\n",
    "    to_do_list = ToDoList()\n",
    "\n",
    "    while True:\n",
    "        print(\"\\n--- Menu ---\")\n",
    "        print(\"1. Add Task\")\n",
    "        print(\"2. View Tasks\")\n",
    "        print(\"3. Mark Task as Completed\")\n",
    "        print(\"4. Delete Task\")\n",
    "        print(\"5. Exit\")\n",
    "\n",
    "        choice = input(\"Enter your choice (1-5): \")\n",
    "\n",
    "        if choice == \"1\":\n",
    "            description = input(\"Enter task description: \")\n",
    "            to_do_list.add_task(description)\n",
    "        elif choice == \"2\":\n",
    "            to_do_list.view_tasks()\n",
    "        elif choice == \"3\":\n",
    "            task_index = int(input(\"Enter the index of the task to mark as completed: \"))\n",
    "            to_do_list.mark_task_completed(task_index)\n",
    "        elif choice == \"4\":\n",
    "            task_index = int(input(\"Enter the index of the task to delete: \"))\n",
    "            to_do_list.delete_task(task_index)\n",
    "        elif choice == \"5\":\n",
    "            print(\"Exiting the To-Do List application. Goodbye!\")\n",
    "            break\n",
    "        else:\n",
    "            print(\"Invalid choice. Please enter a number between 1 and 5.\")\n",
    "\n",
    "if __name__ == \"__main__\":\n",
    "    main()\n"
   ]
  },
  {
   "cell_type": "code",
   "execution_count": null,
   "metadata": {},
   "outputs": [],
   "source": []
  }
 ],
 "metadata": {
  "kernelspec": {
   "display_name": "Python 3",
   "language": "python",
   "name": "python3"
  },
  "language_info": {
   "codemirror_mode": {
    "name": "ipython",
    "version": 3
   },
   "file_extension": ".py",
   "mimetype": "text/x-python",
   "name": "python",
   "nbconvert_exporter": "python",
   "pygments_lexer": "ipython3",
   "version": "3.11.5"
  },
  "orig_nbformat": 4
 },
 "nbformat": 4,
 "nbformat_minor": 2
}
